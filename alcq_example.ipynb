{
 "cells": [
  {
   "cell_type": "markdown",
   "metadata": {},
   "source": [
    "# ALCQ Examples"
   ]
  },
  {
   "cell_type": "markdown",
   "metadata": {},
   "source": [
    "First import the alcq library."
   ]
  },
  {
   "cell_type": "code",
   "execution_count": 1,
   "metadata": {
    "ExecuteTime": {
     "end_time": "2021-05-12T12:53:44.410016Z",
     "start_time": "2021-05-12T12:53:44.391007Z"
    }
   },
   "outputs": [],
   "source": [
    "from alcq import *"
   ]
  },
  {
   "cell_type": "markdown",
   "metadata": {},
   "source": [
    "## Describing TBox"
   ]
  },
  {
   "cell_type": "code",
   "execution_count": 4,
   "metadata": {
    "ExecuteTime": {
     "end_time": "2021-05-12T12:55:51.613763Z",
     "start_time": "2021-05-12T12:55:51.594444Z"
    },
    "scrolled": true
   },
   "outputs": [],
   "source": [
    "Smart = PrimitiveConcept(\"Smart\")\n",
    "Studious = PrimitiveConcept(\"Studious\")\n",
    "attendBy = Relation(\"attendBy\")\n",
    "\n",
    "# use Defined Concept for concepts with a definition\n",
    "GoodStudent = DefinedConcept(\"GoodStudent\", And(Smart, Studious))\n",
    "\n",
    "topic = Relation(\"topic\")\n",
    "# even use Top/Bottom\n",
    "Course = DefinedConcept(\"Course\", Exists(topic, Top))\n",
    "\n",
    "lovedBy = Relation(\"love\")\n",
    "hatedBy = Relation(\"hate\")\n",
    "# and number restrictions (AtMost, AtLeast)\n",
    "LovedByAtMost3 = DefinedConcept(\"LovedByAtMost3\", AtMost(3, lovedBy, Top))\n",
    "HatedByAtLeast2 = DefinedConcept(\"HatedByAtLeast2\", AtLeast(2, hatedBy, Top))"
   ]
  },
  {
   "cell_type": "markdown",
   "metadata": {},
   "source": [
    "## Describing ABox"
   ]
  },
  {
   "cell_type": "code",
   "execution_count": 5,
   "metadata": {
    "ExecuteTime": {
     "end_time": "2021-05-12T12:56:33.747174Z",
     "start_time": "2021-05-12T12:56:33.736172Z"
    }
   },
   "outputs": [],
   "source": [
    "a = Constant(\"a\")\n",
    "b = Constant(\"b\")\n",
    "s1 = Constant(\"Student 1\")\n",
    "c1 = Constant(\"Course 1\")\n",
    "\n",
    "good_student_assertion = GoodStudent(a)\n",
    "attend_by_assertion = attendBy(c1, s1)\n",
    "\n",
    "complex_assertion = And(Exists(attendBy, Smart), And(Exists(attendBy, Studious), Not(Exists(attendBy, GoodStudent))))(a)\n",
    "\n",
    "not_equal_assertion = InequalityAssertion(a,b)\n",
    "not_equal_assertion_simple = ne(a,b)"
   ]
  },
  {
   "cell_type": "markdown",
   "metadata": {},
   "source": [
    "## Check Consistency"
   ]
  },
  {
   "cell_type": "code",
   "execution_count": 7,
   "metadata": {
    "ExecuteTime": {
     "end_time": "2021-05-12T12:56:51.105775Z",
     "start_time": "2021-05-12T12:56:51.069767Z"
    }
   },
   "outputs": [
    {
     "name": "stdout",
     "output_type": "stream",
     "text": [
      "and found XA[And(Exists(R('attendBy'), PC('Smart')), And(Exists(R('attendBy'), PC('Studious')), ForAll(R('attendBy'), Or(Not(PC('Smart')), Not(PC('Studious'))))))(CS('a'))]\n",
      "apply on world  0\n",
      "rule! <function and_rule at 0x000001F546BDA550>\n",
      "and found XA[And(Exists(R('attendBy'), PC('Studious')), ForAll(R('attendBy'), Or(Not(PC('Smart')), Not(PC('Studious')))))(CS('a'))]\n",
      "apply on world  0\n",
      "rule! <function and_rule at 0x000001F546BDA550>\n",
      "exist found XA[Exists(R('attendBy'), PC('Studious'))(CS('a'))]\n",
      "apply on world  0\n",
      "rule! functools.partial(<function exist_rule at 0x000001F546BDA670>, cs=ConstantStorage(counter=1))\n",
      "forall found XA[ForAll(R('attendBy'), Or(Not(PC('Smart')), Not(PC('Studious'))))(CS('a'))]\n",
      "apply on world  0\n",
      "rule! <function forall_rule at 0x000001F546BDAA60>\n",
      "union found XA[Or(Not(PC('Smart')), Not(PC('Studious')))(CS('$1'))]\n",
      "apply on world  0\n",
      "rule! <function union_rule at 0x000001F546BDA940>\n",
      "exist found XA[Exists(R('attendBy'), PC('Smart'))(CS('a'))]\n",
      "apply on world  0\n",
      "rule! functools.partial(<function exist_rule at 0x000001F546BDA670>, cs=ConstantStorage(counter=2))\n",
      "forall found XA[ForAll(R('attendBy'), Or(Not(PC('Smart')), Not(PC('Studious'))))(CS('a'))]\n",
      "apply on world  1\n",
      "rule! <function forall_rule at 0x000001F546BDAA60>\n",
      "union found XA[Or(Not(PC('Smart')), Not(PC('Studious')))(CS('$2'))]\n",
      "apply on world  1\n",
      "rule! <function union_rule at 0x000001F546BDA940>\n",
      "exist found XA[Exists(R('attendBy'), PC('Smart'))(CS('a'))]\n",
      "apply on world  0\n",
      "rule! functools.partial(<function exist_rule at 0x000001F546BDA670>, cs=ConstantStorage(counter=3))\n",
      "forall found XA[ForAll(R('attendBy'), Or(Not(PC('Smart')), Not(PC('Studious'))))(CS('a'))]\n",
      "apply on world  2\n",
      "rule! <function forall_rule at 0x000001F546BDAA60>\n",
      "union found XA[Or(Not(PC('Smart')), Not(PC('Studious')))(CS('$3'))]\n",
      "apply on world  2\n",
      "rule! <function union_rule at 0x000001F546BDA940>\n",
      "-------final-----------\n",
      "Worlds:  4\n",
      "0 open? False\n",
      "1 open? True\n",
      "2 open? False\n",
      "3 open? False\n",
      "world overview:  4 [False, True, False, False]\n",
      "final (consistency, true=open) verdict:  True\n"
     ]
    },
    {
     "data": {
      "text/plain": [
       "True"
      ]
     },
     "execution_count": 7,
     "metadata": {},
     "output_type": "execute_result"
    }
   ],
   "source": [
    "abox = {complex_assertion}\n",
    "run_tableau_algo(process_abox(abox))"
   ]
  },
  {
   "cell_type": "markdown",
   "metadata": {},
   "source": [
    "## Check Subsumption"
   ]
  },
  {
   "cell_type": "code",
   "execution_count": 8,
   "metadata": {
    "ExecuteTime": {
     "end_time": "2021-05-12T12:57:08.441108Z",
     "start_time": "2021-05-12T12:57:08.411922Z"
    }
   },
   "outputs": [
    {
     "name": "stdout",
     "output_type": "stream",
     "text": [
      "and found XA[And(And(Exists(R('attendBy'), PC('Smart')), Exists(R('attendBy'), PC('Studious'))), ForAll(R('attendBy'), Or(Not(PC('Smart')), Not(PC('Studious')))))(CS('$a'))]\n",
      "apply on world  0\n",
      "rule! <function and_rule at 0x000001F546BDA550>\n",
      "and found XA[And(Exists(R('attendBy'), PC('Smart')), Exists(R('attendBy'), PC('Studious')))(CS('$a'))]\n",
      "apply on world  0\n",
      "rule! <function and_rule at 0x000001F546BDA550>\n",
      "exist found XA[Exists(R('attendBy'), PC('Studious'))(CS('$a'))]\n",
      "apply on world  0\n",
      "rule! functools.partial(<function exist_rule at 0x000001F546BDA670>, cs=ConstantStorage(counter=1))\n",
      "forall found XA[ForAll(R('attendBy'), Or(Not(PC('Smart')), Not(PC('Studious'))))(CS('$a'))]\n",
      "apply on world  0\n",
      "rule! <function forall_rule at 0x000001F546BDAA60>\n",
      "union found XA[Or(Not(PC('Smart')), Not(PC('Studious')))(CS('$1'))]\n",
      "apply on world  0\n",
      "rule! <function union_rule at 0x000001F546BDA940>\n",
      "exist found XA[Exists(R('attendBy'), PC('Smart'))(CS('$a'))]\n",
      "apply on world  0\n",
      "rule! functools.partial(<function exist_rule at 0x000001F546BDA670>, cs=ConstantStorage(counter=2))\n",
      "forall found XA[ForAll(R('attendBy'), Or(Not(PC('Smart')), Not(PC('Studious'))))(CS('$a'))]\n",
      "apply on world  1\n",
      "rule! <function forall_rule at 0x000001F546BDAA60>\n",
      "union found XA[Or(Not(PC('Smart')), Not(PC('Studious')))(CS('$2'))]\n",
      "apply on world  1\n",
      "rule! <function union_rule at 0x000001F546BDA940>\n",
      "exist found XA[Exists(R('attendBy'), PC('Smart'))(CS('$a'))]\n",
      "apply on world  0\n",
      "rule! functools.partial(<function exist_rule at 0x000001F546BDA670>, cs=ConstantStorage(counter=3))\n",
      "forall found XA[ForAll(R('attendBy'), Or(Not(PC('Smart')), Not(PC('Studious'))))(CS('$a'))]\n",
      "apply on world  2\n",
      "rule! <function forall_rule at 0x000001F546BDAA60>\n",
      "union found XA[Or(Not(PC('Smart')), Not(PC('Studious')))(CS('$3'))]\n",
      "apply on world  2\n",
      "rule! <function union_rule at 0x000001F546BDA940>\n",
      "-------final-----------\n",
      "Worlds:  4\n",
      "0 open? False\n",
      "1 open? True\n",
      "2 open? False\n",
      "3 open? False\n",
      "world overview:  4 [False, True, False, False]\n",
      "final (consistency, true=open) verdict:  True\n",
      "is subsumption? False\n"
     ]
    }
   ],
   "source": [
    "c1 = DefinedConcept(\"c1\", And(Exists(attendBy, Smart), Exists(attendBy, Studious)))\n",
    "c2 = DefinedConcept(\"c2\", Exists(attendBy, GoodStudent))\n",
    "# should be false\n",
    "print(\"is subsumption?\", is_subsumption_of(c1, c2))"
   ]
  },
  {
   "cell_type": "code",
   "execution_count": null,
   "metadata": {},
   "outputs": [],
   "source": []
  }
 ],
 "metadata": {
  "kernelspec": {
   "display_name": "Python 3",
   "language": "python",
   "name": "python3"
  },
  "language_info": {
   "codemirror_mode": {
    "name": "ipython",
    "version": 3
   },
   "file_extension": ".py",
   "mimetype": "text/x-python",
   "name": "python",
   "nbconvert_exporter": "python",
   "pygments_lexer": "ipython3",
   "version": "3.8.3"
  }
 },
 "nbformat": 4,
 "nbformat_minor": 4
}
